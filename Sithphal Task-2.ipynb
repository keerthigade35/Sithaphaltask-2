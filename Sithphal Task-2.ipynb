{
  "cells": [
    {
      "cell_type": "code",
      "execution_count": null,
      "metadata": {
        "id": "iCyqZyGDGR6E"
      },
      "outputs": [],
      "source": [
        "!pip install requests beautifulsoup4 faiss-cpu sentence-transformers transformers"
      ]
    },
    {
      "cell_type": "code",
      "execution_count": null,
      "metadata": {
        "id": "5dZGg3OFGVjC"
      },
      "outputs": [],
      "source": [
        "from transformers import AutoModelForSeq2SeqLM, AutoTokenizer\n",
        "\n",
        "def generate_response(relevant_chunks, query, model_name='google/flan-t5-base'):\n",
        "    \"\"\"\n",
        "    Generate a concise and specific answer based on the provided context and query.\n",
        "    \"\"\"\n",
        "    # Load model and tokenizer\n",
        "    model = AutoModelForSeq2SeqLM.from_pretrained(model_name)\n",
        "    tokenizer = AutoTokenizer.from_pretrained(model_name)\n",
        "\n",
        "    # Ensure relevant chunks are concise and within model limits\n",
        "    max_chunk_length = 300  # Adjust to avoid token overflow\n",
        "    relevant_chunks = ' '.join(relevant_chunks.split()[:max_chunk_length])\n",
        "\n",
        "    # Refined prompt to focus on how AI models use genetic markers for personalized treatments\n",
        "    prompt = (\n",
        "        f\"Context: {relevant_chunks}\\n\\n\"\n",
        "        f\"Question: {query}\\n\"\n",
        "        f\"Provide a detailed answer on how AI models use BRCA1 and TP53 mutations to predict cancer outcomes and identify personalized treatments, including specific treatment recommendations.\"\n",
        "    )\n",
        "\n",
        "    inputs = tokenizer(prompt, return_tensors=\"pt\", max_length=512, truncation=True)\n",
        "\n",
        "    # Generate response using controlled parameters\n",
        "    outputs = model.generate(\n",
        "        inputs[\"input_ids\"],\n",
        "        max_new_tokens=150,  # Lengthened slightly for detail\n",
        "        top_k=50,  # Focus on high-probability words\n",
        "        num_beams=5,  # Beam search for better coherence\n",
        "        no_repeat_ngram_size=2,  # Avoid repetition\n",
        "        do_sample=False  # Use beam search for deterministic output\n",
        "    )\n",
        "\n",
        "    # Decode and clean the output\n",
        "    answer = tokenizer.decode(outputs[0], skip_special_tokens=True)\n",
        "    return answer.strip()\n",
        "\n",
        "\n",
        "# Example query and context on AI-genomic cancer research involving BRCA1 and TP53\n",
        "query = \"How do AI models use BRCA1 and TP53 mutations to predict cancer outcomes and identify personalized treatments, including specific treatment recommendations?\"\n",
        "relevant_chunks = \"\"\"\n",
        "Stanford University has developed AI models that specifically focus on genetic mutations like BRCA1 and TP53 to predict cancer outcomes. These mutations, which are linked to a higher risk of developing certain cancers, are analyzed using machine learning algorithms that interpret gene expression data and mutation profiles. By incorporating these genetic markers, AI models predict cancer progression and suggest personalized treatments. For example, patients with BRCA1 mutations might be recommended therapies like PARP inhibitors, while those with TP53 mutations may receive targeted therapies to address specific cancer pathways.\n",
        "\"\"\"\n",
        "\n",
        "response = generate_response(relevant_chunks, query)\n",
        "print(response)"
      ]
    }
  ],
  "metadata": {
    "colab": {
      "provenance": []
    },
    "kernelspec": {
      "display_name": "Python 3",
      "name": "python3"
    },
    "language_info": {
      "name": "python"
    }
  },
  "nbformat": 4,
  "nbformat_minor": 0
}
